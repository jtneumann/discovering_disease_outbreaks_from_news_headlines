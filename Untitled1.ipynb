{
 "cells": [
  {
   "cell_type": "code",
   "execution_count": null,
   "metadata": {},
   "outputs": [],
   "source": [
    "headlinesFile = open('data/headlines.txt','r')\n",
    "headlines = [line.strip()\n",
    "             for line in headlinesFile.readlines()]\n",
    "headlineCount = len(headlines)\n",
    "print(f\"{headlineCount} headlines on file.\")"
   ]
  },
  {
   "cell_type": "code",
   "execution_count": null,
   "metadata": {},
   "outputs": [],
   "source": []
  }
 ],
 "metadata": {
  "kernelspec": {
   "display_name": "Python 3",
   "language": "python",
   "name": "python3"
  }
 },
 "nbformat": 4,
 "nbformat_minor": 4
}
